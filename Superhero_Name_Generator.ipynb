{
  "cells": [
    {
      "cell_type": "markdown",
      "metadata": {
        "id": "21XXWP7Fpt2L"
      },
      "source": [
        "# Superhero (and Supervillain) Name Generator\n",
        "\n",
        "---\n",
        "\n",
        "[Superhero Names Dataset](https://github.com/am1tyadav/superhero)"
      ]
    },
    {
      "cell_type": "markdown",
      "metadata": {
        "id": "H6P0NU5Cpt2R"
      },
      "source": [
        "## Task 2\n",
        "\n",
        "1. Import the data\n",
        "2. Create a tokenizer\n",
        "3. Char to index and Index to char dictionaries"
      ]
    },
    {
      "cell_type": "code",
      "execution_count": 3,
      "metadata": {
        "id": "srULhalZpt2M",
        "colab": {
          "base_uri": "https://localhost:8080/"
        },
        "outputId": "86f08d2e-ff51-4ad5-fc41-9946afb3de33"
      },
      "outputs": [
        {
          "output_type": "stream",
          "name": "stdout",
          "text": [
            "fatal: destination path 'superhero' already exists and is not an empty directory.\n"
          ]
        }
      ],
      "source": [
        "!git clone https://github.com/am1tyadav/superhero"
      ]
    },
    {
      "cell_type": "code",
      "execution_count": 4,
      "metadata": {
        "id": "uq4CLmsLpt2P",
        "colab": {
          "base_uri": "https://localhost:8080/",
          "height": 36
        },
        "outputId": "92010aa3-4829-4f1f-c7a0-121815c5ffb7"
      },
      "outputs": [
        {
          "output_type": "execute_result",
          "data": {
            "text/plain": [
              "'jumpa\\t\\ndoctor fate\\t\\nstarlight\\t\\nisildur\\t\\nlasher\\t\\nvarvara\\t\\nthe target\\t\\naxel\\t\\nbattra\\t\\nchangeling\\t\\npyrrh'"
            ],
            "application/vnd.google.colaboratory.intrinsic+json": {
              "type": "string"
            }
          },
          "metadata": {},
          "execution_count": 4
        }
      ],
      "source": [
        "with open('superhero/superheroes.txt', 'r') as f:\n",
        "  data = f.read()\n",
        "\n",
        "data[:100]"
      ]
    },
    {
      "cell_type": "code",
      "execution_count": 5,
      "metadata": {
        "id": "JqhtLuAHpt2R",
        "colab": {
          "base_uri": "https://localhost:8080/"
        },
        "outputId": "88e2f7e8-05a7-4ce0-d542-85fd7f63a606"
      },
      "outputs": [
        {
          "output_type": "stream",
          "name": "stdout",
          "text": [
            "2.15.0\n"
          ]
        }
      ],
      "source": [
        "import tensorflow as tf\n",
        "print(tf.__version__)"
      ]
    },
    {
      "cell_type": "code",
      "execution_count": 6,
      "metadata": {
        "id": "95Lo1Yqzpt2T"
      },
      "outputs": [],
      "source": [
        "tokenizer = tf.keras.preprocessing.text.Tokenizer(\n",
        "    filters='!\"#$%&()*+,-./:;<=>?@[\\\\]^_`{|}~',\n",
        "    split='\\n',\n",
        ")"
      ]
    },
    {
      "cell_type": "code",
      "execution_count": 7,
      "metadata": {
        "id": "qYfC4sj2pt2V"
      },
      "outputs": [],
      "source": [
        "tokenizer.fit_on_texts(data)"
      ]
    },
    {
      "cell_type": "code",
      "execution_count": 8,
      "metadata": {
        "id": "EO4-dPM6pt2X",
        "colab": {
          "base_uri": "https://localhost:8080/"
        },
        "outputId": "66743472-03ff-4806-fb36-16406e7e6951"
      },
      "outputs": [
        {
          "output_type": "stream",
          "name": "stdout",
          "text": [
            "{1: '\\t', 2: 'a', 3: 'e', 4: 'r', 5: 'o', 6: 'n', 7: 'i', 8: ' ', 9: 't', 10: 's', 11: 'l', 12: 'm', 13: 'h', 14: 'd', 15: 'c', 16: 'u', 17: 'g', 18: 'k', 19: 'b', 20: 'p', 21: 'y', 22: 'w', 23: 'f', 24: 'v', 25: 'j', 26: 'z', 27: 'x', 28: 'q'}\n"
          ]
        }
      ],
      "source": [
        "char_to_index = tokenizer.word_index\n",
        "index_to_char = dict((v,k) for k, v in char_to_index.items())\n",
        "\n",
        "print(index_to_char)"
      ]
    },
    {
      "cell_type": "markdown",
      "metadata": {
        "id": "SMwtIw_Bpt2Z"
      },
      "source": [
        "## Task 3\n",
        "\n",
        "1. Converting between names and sequences"
      ]
    },
    {
      "cell_type": "code",
      "execution_count": 9,
      "metadata": {
        "id": "N7iQLIXzpt2a",
        "colab": {
          "base_uri": "https://localhost:8080/"
        },
        "outputId": "f0390bbc-a4e1-47a4-c525-622286246f6b"
      },
      "outputs": [
        {
          "output_type": "execute_result",
          "data": {
            "text/plain": [
              "['jumpa\\t',\n",
              " 'doctor fate\\t',\n",
              " 'starlight\\t',\n",
              " 'isildur\\t',\n",
              " 'lasher\\t',\n",
              " 'varvara\\t',\n",
              " 'the target\\t',\n",
              " 'axel\\t',\n",
              " 'battra\\t',\n",
              " 'changeling\\t']"
            ]
          },
          "metadata": {},
          "execution_count": 9
        }
      ],
      "source": [
        "names = data.splitlines()\n",
        "names[:10]"
      ]
    },
    {
      "cell_type": "code",
      "execution_count": 10,
      "metadata": {
        "id": "n_-TTfqipt2c",
        "colab": {
          "base_uri": "https://localhost:8080/"
        },
        "outputId": "ceb226d6-8be5-434f-be8f-1ad4dd3f1ab9"
      },
      "outputs": [
        {
          "output_type": "execute_result",
          "data": {
            "text/plain": [
              "[[25], [16], [12], [20], [2], [1]]"
            ]
          },
          "metadata": {},
          "execution_count": 10
        }
      ],
      "source": [
        "tokenizer.texts_to_sequences(names[0])"
      ]
    },
    {
      "cell_type": "code",
      "execution_count": 11,
      "metadata": {
        "id": "P6IsKH1Upt2e"
      },
      "outputs": [],
      "source": [
        "def name_to_seq(name):\n",
        "  return [tokenizer.texts_to_sequences(c)[0][0] for c in name]"
      ]
    },
    {
      "cell_type": "code",
      "execution_count": 12,
      "metadata": {
        "id": "TuLUiMP3pt2g",
        "colab": {
          "base_uri": "https://localhost:8080/"
        },
        "outputId": "434f71e4-f15c-40a5-ec00-8f89852f96bb"
      },
      "outputs": [
        {
          "output_type": "execute_result",
          "data": {
            "text/plain": [
              "[25, 16, 12, 20, 2, 1]"
            ]
          },
          "metadata": {},
          "execution_count": 12
        }
      ],
      "source": [
        "name_to_seq(names[0])"
      ]
    },
    {
      "cell_type": "code",
      "execution_count": 13,
      "metadata": {
        "id": "yFUYhimKpt2h"
      },
      "outputs": [],
      "source": [
        "def seq_to_name(seq):\n",
        "  return ''.join(index_to_char[i] for i in seq if i!=0)"
      ]
    },
    {
      "cell_type": "code",
      "execution_count": 14,
      "metadata": {
        "id": "ROhCqmhLpt2k",
        "colab": {
          "base_uri": "https://localhost:8080/",
          "height": 36
        },
        "outputId": "2c67d20d-6377-481e-86f6-2956238ac45d"
      },
      "outputs": [
        {
          "output_type": "execute_result",
          "data": {
            "text/plain": [
              "'jumpa\\t'"
            ],
            "application/vnd.google.colaboratory.intrinsic+json": {
              "type": "string"
            }
          },
          "metadata": {},
          "execution_count": 14
        }
      ],
      "source": [
        "seq_to_name([25, 16, 12, 20, 2, 1])"
      ]
    },
    {
      "cell_type": "markdown",
      "metadata": {
        "id": "uCbAzsNjpt2m"
      },
      "source": [
        "## Task 4\n",
        "\n",
        "1. Creating sequences\n",
        "2. Padding all sequences"
      ]
    },
    {
      "cell_type": "code",
      "execution_count": 15,
      "metadata": {
        "id": "zstNn-0dpt2m"
      },
      "outputs": [],
      "source": [
        "sequences = []\n",
        "\n",
        "for name in names:\n",
        "  seq = name_to_seq(name)\n",
        "  if len(seq)>=2:\n",
        "    sequences += [seq[:i] for i in range(2, len(seq) + 1)]"
      ]
    },
    {
      "cell_type": "code",
      "execution_count": 16,
      "metadata": {
        "id": "BjRTMysvpt2o",
        "colab": {
          "base_uri": "https://localhost:8080/"
        },
        "outputId": "ed7cc06f-0410-42db-93a6-b5db5ecf64d7"
      },
      "outputs": [
        {
          "output_type": "execute_result",
          "data": {
            "text/plain": [
              "[[25, 16],\n",
              " [25, 16, 12],\n",
              " [25, 16, 12, 20],\n",
              " [25, 16, 12, 20, 2],\n",
              " [25, 16, 12, 20, 2, 1],\n",
              " [14, 5],\n",
              " [14, 5, 15],\n",
              " [14, 5, 15, 9],\n",
              " [14, 5, 15, 9, 5],\n",
              " [14, 5, 15, 9, 5, 4]]"
            ]
          },
          "metadata": {},
          "execution_count": 16
        }
      ],
      "source": [
        "sequences[:10]"
      ]
    },
    {
      "cell_type": "code",
      "execution_count": 18,
      "metadata": {
        "id": "SR68pu2tpt2q",
        "colab": {
          "base_uri": "https://localhost:8080/"
        },
        "outputId": "131d0e60-1e74-46ab-c51e-00f0a57285d5"
      },
      "outputs": [
        {
          "output_type": "stream",
          "name": "stdout",
          "text": [
            "33\n"
          ]
        }
      ],
      "source": [
        "max_len = max((len(x) for x in sequences))\n",
        "print(max_len)"
      ]
    },
    {
      "cell_type": "code",
      "execution_count": 21,
      "metadata": {
        "id": "h_1BtWO7pt2r",
        "colab": {
          "base_uri": "https://localhost:8080/"
        },
        "outputId": "3081189b-9c5f-4826-e204-c0ed247a385c"
      },
      "outputs": [
        {
          "output_type": "stream",
          "name": "stdout",
          "text": [
            "[ 0  0  0  0  0  0  0  0  0  0  0  0  0  0  0  0  0  0  0  0  0  0  0  0\n",
            "  0  0  0  0  0  0  0 25 16]\n"
          ]
        }
      ],
      "source": [
        "padded_sequences = tf.keras.preprocessing.sequence.pad_sequences(\n",
        "    sequences, padding = 'pre',\n",
        "    maxlen = max_len\n",
        ")\n",
        "print(padded_sequences[0])"
      ]
    },
    {
      "cell_type": "code",
      "execution_count": 22,
      "metadata": {
        "id": "sPlrLRpSpt2t",
        "colab": {
          "base_uri": "https://localhost:8080/"
        },
        "outputId": "659355c7-4357-4b2f-bdde-7e41cfaaae0b"
      },
      "outputs": [
        {
          "output_type": "execute_result",
          "data": {
            "text/plain": [
              "(88279, 33)"
            ]
          },
          "metadata": {},
          "execution_count": 22
        }
      ],
      "source": [
        "padded_sequences.shape"
      ]
    },
    {
      "cell_type": "markdown",
      "metadata": {
        "id": "YBJ5GUqGmiAF"
      },
      "source": [
        "## Task 5: Creating Training and Validation Sets\n",
        "\n",
        "1. Creating training and validation sets"
      ]
    },
    {
      "cell_type": "code",
      "execution_count": 23,
      "metadata": {
        "id": "BE4BIeSnpt2v",
        "colab": {
          "base_uri": "https://localhost:8080/"
        },
        "outputId": "c3d1f0f5-7a09-4950-94ef-85408b178073"
      },
      "outputs": [
        {
          "output_type": "stream",
          "name": "stdout",
          "text": [
            "(88279, 32) (88279,)\n"
          ]
        }
      ],
      "source": [
        "x, y = padded_sequences[:, :-1], padded_sequences[:, -1]\n",
        "print(x.shape, y.shape)"
      ]
    },
    {
      "cell_type": "code",
      "execution_count": 26,
      "metadata": {
        "id": "5u8C-LdNmiAF",
        "colab": {
          "base_uri": "https://localhost:8080/"
        },
        "outputId": "63b013ee-fd9e-4c9b-d7a7-e9d49bf3194b"
      },
      "outputs": [
        {
          "output_type": "stream",
          "name": "stdout",
          "text": [
            "(66209, 32) (66209,)\n",
            "(22070, 32) (22070,)\n"
          ]
        }
      ],
      "source": [
        "from sklearn.model_selection import train_test_split\n",
        "\n",
        "x_train, x_test, y_train, y_test = train_test_split(x, y)\n",
        "\n",
        "print(x_train.shape, y_train.shape)\n",
        "print(x_test.shape, y_test.shape)"
      ]
    },
    {
      "cell_type": "code",
      "execution_count": 28,
      "metadata": {
        "id": "cgqRZtqnpt2x",
        "colab": {
          "base_uri": "https://localhost:8080/"
        },
        "outputId": "94f7242e-7834-47a5-8e38-241f4938512f"
      },
      "outputs": [
        {
          "output_type": "stream",
          "name": "stdout",
          "text": [
            "[ 0  0  0  0  0  0  0  0  0  0  0  0  0  0  0  0  0  0  0  0  0  0  0  0\n",
            "  0  0  0  0  0  0  0 13]\n",
            "5\n"
          ]
        }
      ],
      "source": [
        "print(x_train[0])\n",
        "print(y_train[0])"
      ]
    },
    {
      "cell_type": "code",
      "source": [
        "num_char = len(char_to_index.keys()) + 1\n",
        "num_char"
      ],
      "metadata": {
        "colab": {
          "base_uri": "https://localhost:8080/"
        },
        "id": "5WVhxc53O16Q",
        "outputId": "0de0afce-7961-4ce2-aa6a-ae4012da4a38"
      },
      "execution_count": 29,
      "outputs": [
        {
          "output_type": "execute_result",
          "data": {
            "text/plain": [
              "29"
            ]
          },
          "metadata": {},
          "execution_count": 29
        }
      ]
    },
    {
      "cell_type": "markdown",
      "metadata": {
        "id": "BqEtY4yimiAG"
      },
      "source": [
        "## Task 6: Creating the Model"
      ]
    },
    {
      "cell_type": "code",
      "execution_count": 33,
      "metadata": {
        "id": "Tw-ASiUDmiAG",
        "colab": {
          "base_uri": "https://localhost:8080/"
        },
        "outputId": "656387da-9cbf-4366-a0db-1915ac926ea7"
      },
      "outputs": [
        {
          "output_type": "stream",
          "name": "stdout",
          "text": [
            "Model: \"sequential_1\"\n",
            "_________________________________________________________________\n",
            " Layer (type)                Output Shape              Param #   \n",
            "=================================================================\n",
            " embedding_2 (Embedding)     (None, 32, 8)             232       \n",
            "                                                                 \n",
            " conv1d_2 (Conv1D)           (None, 32, 64)            2624      \n",
            "                                                                 \n",
            " max_pooling1d_1 (MaxPoolin  (None, 16, 64)            0         \n",
            " g1D)                                                            \n",
            "                                                                 \n",
            " lstm_1 (LSTM)               (None, 32)                12416     \n",
            "                                                                 \n",
            " dense_1 (Dense)             (None, 29)                957       \n",
            "                                                                 \n",
            "=================================================================\n",
            "Total params: 16229 (63.39 KB)\n",
            "Trainable params: 16229 (63.39 KB)\n",
            "Non-trainable params: 0 (0.00 Byte)\n",
            "_________________________________________________________________\n"
          ]
        }
      ],
      "source": [
        "from tensorflow.keras.models import Sequential\n",
        "from tensorflow.keras.layers import Embedding, Conv1D, MaxPool1D, LSTM, Dense, Bidirectional\n",
        "\n",
        "model = Sequential([\n",
        "    Embedding(num_char, 8, input_length = max_len -1),\n",
        "    Conv1D(64, 5, strides = 1, padding = 'causal', activation = 'tanh'),\n",
        "    MaxPool1D(2),\n",
        "    LSTM(32),\n",
        "    Dense(num_char, activation = 'softmax')\n",
        "])\n",
        "\n",
        "model.compile(\n",
        "    loss = 'sparse_categorical_crossentropy',\n",
        "    optimizer = 'adam',\n",
        "    metrics = ['accuracy']\n",
        ")\n",
        "\n",
        "model.summary()"
      ]
    },
    {
      "cell_type": "markdown",
      "metadata": {
        "id": "iUGlNaDomiAG"
      },
      "source": [
        "## Task 7: Training the Model"
      ]
    },
    {
      "cell_type": "code",
      "execution_count": 34,
      "metadata": {
        "id": "j0Ssl4qupt22",
        "colab": {
          "base_uri": "https://localhost:8080/"
        },
        "outputId": "06b893ec-0a80-4893-d0f2-9f415c81e81e"
      },
      "outputs": [
        {
          "output_type": "stream",
          "name": "stdout",
          "text": [
            "Epoch 1/50\n",
            "2070/2070 - 17s - loss: 2.7454 - accuracy: 0.1891 - val_loss: 2.5744 - val_accuracy: 0.2246 - 17s/epoch - 8ms/step\n",
            "Epoch 2/50\n",
            "2070/2070 - 12s - loss: 2.5224 - accuracy: 0.2420 - val_loss: 2.4904 - val_accuracy: 0.2476 - 12s/epoch - 6ms/step\n",
            "Epoch 3/50\n",
            "2070/2070 - 11s - loss: 2.4530 - accuracy: 0.2589 - val_loss: 2.4464 - val_accuracy: 0.2643 - 11s/epoch - 5ms/step\n",
            "Epoch 4/50\n",
            "2070/2070 - 11s - loss: 2.4056 - accuracy: 0.2715 - val_loss: 2.4094 - val_accuracy: 0.2719 - 11s/epoch - 5ms/step\n",
            "Epoch 5/50\n",
            "2070/2070 - 11s - loss: 2.3700 - accuracy: 0.2805 - val_loss: 2.3906 - val_accuracy: 0.2809 - 11s/epoch - 5ms/step\n",
            "Epoch 6/50\n",
            "2070/2070 - 12s - loss: 2.3405 - accuracy: 0.2882 - val_loss: 2.3630 - val_accuracy: 0.2858 - 12s/epoch - 6ms/step\n",
            "Epoch 7/50\n",
            "2070/2070 - 11s - loss: 2.3128 - accuracy: 0.2966 - val_loss: 2.3431 - val_accuracy: 0.2932 - 11s/epoch - 5ms/step\n",
            "Epoch 8/50\n",
            "2070/2070 - 11s - loss: 2.2866 - accuracy: 0.3066 - val_loss: 2.3228 - val_accuracy: 0.3023 - 11s/epoch - 5ms/step\n",
            "Epoch 9/50\n",
            "2070/2070 - 11s - loss: 2.2624 - accuracy: 0.3139 - val_loss: 2.3078 - val_accuracy: 0.3050 - 11s/epoch - 5ms/step\n",
            "Epoch 10/50\n",
            "2070/2070 - 11s - loss: 2.2406 - accuracy: 0.3203 - val_loss: 2.2947 - val_accuracy: 0.3100 - 11s/epoch - 5ms/step\n",
            "Epoch 11/50\n",
            "2070/2070 - 11s - loss: 2.2220 - accuracy: 0.3281 - val_loss: 2.2861 - val_accuracy: 0.3134 - 11s/epoch - 5ms/step\n",
            "Epoch 12/50\n",
            "2070/2070 - 11s - loss: 2.2020 - accuracy: 0.3343 - val_loss: 2.2762 - val_accuracy: 0.3178 - 11s/epoch - 6ms/step\n",
            "Epoch 13/50\n",
            "2070/2070 - 11s - loss: 2.1859 - accuracy: 0.3387 - val_loss: 2.2631 - val_accuracy: 0.3227 - 11s/epoch - 5ms/step\n",
            "Epoch 14/50\n",
            "2070/2070 - 12s - loss: 2.1706 - accuracy: 0.3431 - val_loss: 2.2568 - val_accuracy: 0.3200 - 12s/epoch - 6ms/step\n",
            "Epoch 15/50\n",
            "2070/2070 - 12s - loss: 2.1549 - accuracy: 0.3479 - val_loss: 2.2507 - val_accuracy: 0.3265 - 12s/epoch - 6ms/step\n",
            "Epoch 16/50\n",
            "2070/2070 - 11s - loss: 2.1415 - accuracy: 0.3530 - val_loss: 2.2400 - val_accuracy: 0.3301 - 11s/epoch - 5ms/step\n",
            "Epoch 17/50\n",
            "2070/2070 - 12s - loss: 2.1288 - accuracy: 0.3585 - val_loss: 2.2422 - val_accuracy: 0.3328 - 12s/epoch - 6ms/step\n",
            "Epoch 18/50\n",
            "2070/2070 - 11s - loss: 2.1164 - accuracy: 0.3629 - val_loss: 2.2368 - val_accuracy: 0.3355 - 11s/epoch - 5ms/step\n",
            "Epoch 19/50\n",
            "2070/2070 - 11s - loss: 2.1061 - accuracy: 0.3656 - val_loss: 2.2329 - val_accuracy: 0.3351 - 11s/epoch - 5ms/step\n",
            "Epoch 20/50\n",
            "2070/2070 - 11s - loss: 2.0948 - accuracy: 0.3678 - val_loss: 2.2261 - val_accuracy: 0.3394 - 11s/epoch - 5ms/step\n",
            "Epoch 21/50\n",
            "2070/2070 - 11s - loss: 2.0847 - accuracy: 0.3729 - val_loss: 2.2251 - val_accuracy: 0.3408 - 11s/epoch - 5ms/step\n",
            "Epoch 22/50\n",
            "2070/2070 - 11s - loss: 2.0756 - accuracy: 0.3748 - val_loss: 2.2239 - val_accuracy: 0.3434 - 11s/epoch - 5ms/step\n",
            "Epoch 23/50\n",
            "2070/2070 - 11s - loss: 2.0662 - accuracy: 0.3785 - val_loss: 2.2188 - val_accuracy: 0.3440 - 11s/epoch - 5ms/step\n",
            "Epoch 24/50\n",
            "2070/2070 - 11s - loss: 2.0576 - accuracy: 0.3824 - val_loss: 2.2147 - val_accuracy: 0.3504 - 11s/epoch - 5ms/step\n",
            "Epoch 25/50\n",
            "2070/2070 - 11s - loss: 2.0496 - accuracy: 0.3848 - val_loss: 2.2149 - val_accuracy: 0.3473 - 11s/epoch - 5ms/step\n",
            "Epoch 26/50\n",
            "2070/2070 - 12s - loss: 2.0419 - accuracy: 0.3862 - val_loss: 2.2115 - val_accuracy: 0.3473 - 12s/epoch - 6ms/step\n",
            "Epoch 27/50\n",
            "2070/2070 - 11s - loss: 2.0341 - accuracy: 0.3873 - val_loss: 2.2155 - val_accuracy: 0.3527 - 11s/epoch - 5ms/step\n",
            "Epoch 28/50\n",
            "2070/2070 - 12s - loss: 2.0277 - accuracy: 0.3908 - val_loss: 2.2181 - val_accuracy: 0.3494 - 12s/epoch - 6ms/step\n",
            "Epoch 29/50\n",
            "2070/2070 - 11s - loss: 2.0219 - accuracy: 0.3934 - val_loss: 2.2090 - val_accuracy: 0.3519 - 11s/epoch - 5ms/step\n",
            "Epoch 30/50\n",
            "2070/2070 - 12s - loss: 2.0149 - accuracy: 0.3950 - val_loss: 2.2101 - val_accuracy: 0.3521 - 12s/epoch - 6ms/step\n"
          ]
        },
        {
          "output_type": "execute_result",
          "data": {
            "text/plain": [
              "<keras.src.callbacks.History at 0x7e59f0b5a410>"
            ]
          },
          "metadata": {},
          "execution_count": 34
        }
      ],
      "source": [
        "model.fit(x_train, y_train, validation_data = (x_test, y_test), epochs = 50, verbose = 2, batch_size = 32,\n",
        "          callbacks = [\n",
        "              tf.keras.callbacks.EarlyStopping(monitor = 'val_accuracy', patience = 3)\n",
        "          ]\n",
        "      )"
      ]
    },
    {
      "cell_type": "markdown",
      "metadata": {
        "id": "GTuu9eR5miAH"
      },
      "source": [
        "## Task 8: Generate Names!"
      ]
    },
    {
      "cell_type": "code",
      "execution_count": 44,
      "metadata": {
        "id": "9f50aTRcpt24"
      },
      "outputs": [],
      "source": [
        "def generate_names(seed):\n",
        "  for i in range(0, 40):\n",
        "    seq = name_to_seq(seed)\n",
        "    padded = tf.keras.preprocessing.sequence.pad_sequences([seq], padding = 'pre', maxlen = max_len - 1,\n",
        "                                                           truncating = 'pre')\n",
        "    pred = model.predict(padded)[0]\n",
        "    pred_char = index_to_char[tf.argmax(pred).numpy()]\n",
        "    seed += pred_char\n",
        "\n",
        "    if pred_char == '\\t':\n",
        "      break\n",
        "  print(seed)"
      ]
    },
    {
      "cell_type": "code",
      "execution_count": 51,
      "metadata": {
        "id": "faQ0FInlpt26",
        "colab": {
          "base_uri": "https://localhost:8080/"
        },
        "outputId": "e4924c17-b132-4204-e3c8-44b846c14734"
      },
      "outputs": [
        {
          "output_type": "stream",
          "name": "stdout",
          "text": [
            "1/1 [==============================] - 0s 20ms/step\n",
            "1/1 [==============================] - 0s 17ms/step\n",
            "1/1 [==============================] - 0s 24ms/step\n",
            "1/1 [==============================] - 0s 17ms/step\n",
            "1/1 [==============================] - 0s 19ms/step\n",
            "1/1 [==============================] - 0s 18ms/step\n",
            "1/1 [==============================] - 0s 18ms/step\n",
            "artemis\t\n"
          ]
        }
      ],
      "source": [
        "generate_names('a')"
      ]
    }
  ],
  "metadata": {
    "accelerator": "GPU",
    "colab": {
      "provenance": [],
      "gpuType": "T4"
    },
    "kernelspec": {
      "display_name": "Python 3",
      "name": "python3"
    },
    "language_info": {
      "codemirror_mode": {
        "name": "ipython",
        "version": 3
      },
      "file_extension": ".py",
      "mimetype": "text/x-python",
      "name": "python",
      "nbconvert_exporter": "python",
      "pygments_lexer": "ipython3",
      "version": "3.8.3"
    }
  },
  "nbformat": 4,
  "nbformat_minor": 0
}